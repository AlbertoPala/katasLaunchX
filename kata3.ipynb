{
 "cells": [
  {
   "cell_type": "markdown",
   "metadata": {},
   "source": [
    "# Ejercicio 1"
   ]
  },
  {
   "cell_type": "code",
   "execution_count": 1,
   "metadata": {},
   "outputs": [
    {
     "name": "stdout",
     "output_type": "stream",
     "text": [
      "un asteroide se acerca a toda velocidad :C\n"
     ]
    }
   ],
   "source": [
    "velAsteroide = 49 # k/hs\n",
    "\n",
    "if velAsteroide >= 25:\n",
    "    print(\"un asteroide se acerca a toda velocidad :C\")\n",
    "else:\n",
    "    print(\"el asteroide es seguro c:\")"
   ]
  },
  {
   "cell_type": "markdown",
   "metadata": {},
   "source": [
    "# Ejercicio 2"
   ]
  },
  {
   "cell_type": "code",
   "execution_count": 2,
   "metadata": {},
   "outputs": [
    {
     "name": "stdout",
     "output_type": "stream",
     "text": [
      "no hay rayo de luz\n"
     ]
    }
   ],
   "source": [
    "velAsteroide = 19 #k/hr\n",
    "\n",
    "if velAsteroide < 20:\n",
    "    print(\"no hay rayo de luz\")\n",
    "elif velAsteroide == 20:\n",
    "    print(\"que bonito rayo de luz\")\n",
    "else:\n",
    "    print(\"que rayo de luz impresionante\")"
   ]
  },
  {
   "cell_type": "markdown",
   "metadata": {},
   "source": [
    "# Ejercicio 3"
   ]
  },
  {
   "cell_type": "code",
   "execution_count": 3,
   "metadata": {},
   "outputs": [
    {
     "name": "stdout",
     "output_type": "stream",
     "text": [
      "advertencia, un asteroide grande se acerca a alta velocidad\n"
     ]
    }
   ],
   "source": [
    "velAsteroide = 30 #km/hr\n",
    "tamAsteroide = 50 #m\n",
    "\n",
    "if velAsteroide <= 20 and tamAsteroide <= 20:\n",
    "    print(\"nada peligroso\")\n",
    "elif velAsteroide > 20 and tamAsteroide > 20:\n",
    "    print(\"advertencia, un asteroide grande se acerca a alta velocidad\")\n",
    "    "
   ]
  }
 ],
 "metadata": {
  "interpreter": {
   "hash": "facfb1178ef491f45575003684c733da0b46caeb4ca5a1870461e517f559c901"
  },
  "kernelspec": {
   "display_name": "Python 3.10.2 64-bit",
   "language": "python",
   "name": "python3"
  },
  "language_info": {
   "codemirror_mode": {
    "name": "ipython",
    "version": 3
   },
   "file_extension": ".py",
   "mimetype": "text/x-python",
   "name": "python",
   "nbconvert_exporter": "python",
   "pygments_lexer": "ipython3",
   "version": "3.10.2"
  },
  "orig_nbformat": 4
 },
 "nbformat": 4,
 "nbformat_minor": 2
}
