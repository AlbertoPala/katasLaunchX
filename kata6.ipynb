{
 "cells": [
  {
   "cell_type": "markdown",
   "metadata": {},
   "source": [
    "# Ejercicio 1"
   ]
  },
  {
   "cell_type": "code",
   "execution_count": null,
   "metadata": {},
   "outputs": [],
   "source": [
    "planetas = [\"Mercurio\", \"Venus\", \"Tierra\", \"Marte\", \"Jupiter\", \"Saturno\", \"Urano\", \"Neptuno\"]\n",
    "print(\"En el sistema solar hay: \", len(planetas), \" planetas\")\n",
    "print(planetas)"
   ]
  },
  {
   "cell_type": "code",
   "execution_count": null,
   "metadata": {},
   "outputs": [],
   "source": [
    "planetas.append(\"pluton\")\n",
    "print(\"En el sistema solar hay: \", len(planetas), \" planetas\")\n",
    "print(\"el ultimo planeta del sistema es: \",planetas[-1])\n",
    "print(planetas)"
   ]
  },
  {
   "cell_type": "markdown",
   "metadata": {},
   "source": [
    "# Ejercicio 2"
   ]
  },
  {
   "cell_type": "code",
   "execution_count": 7,
   "metadata": {},
   "outputs": [
    {
     "name": "stdout",
     "output_type": "stream",
     "text": [
      "aqui estan los planetas mas cercanos al sol con respecto a Tierra\n",
      "['Mercurio', 'Venus']\n",
      "aqui se muestran los planetas mas lejanos al sol a comparacion de Tierra\n",
      "['Venus', 'Tierra', 'Marte', 'Jupiter', 'Saturno', 'Urano', 'Neptuno']\n"
     ]
    }
   ],
   "source": [
    "planetas = [\"Mercurio\", \"Venus\", \"Tierra\", \"Marte\", \"Jupiter\", \"Saturno\", \"Urano\", \"Neptuno\"]\n",
    "planeta_ele = input(\"elija un planeta de la lista\")\n",
    "buscar_plan = planetas.index(planeta_ele)\n",
    "\n",
    "#planeta mas cercano al sol\n",
    "print(\"aqui estan los planetas mas cercanos al sol con respecto a \"+planeta_ele)\n",
    "print(planetas[0:buscar_plan])\n",
    "\n",
    "#planeta mas lejano\n",
    "print(\"aqui se muestran los planetas mas lejanos al sol a comparacion de \"+planeta_ele)\n",
    "print(planetas[buscar_plan-1:])"
   ]
  }
 ],
 "metadata": {
  "interpreter": {
   "hash": "facfb1178ef491f45575003684c733da0b46caeb4ca5a1870461e517f559c901"
  },
  "kernelspec": {
   "display_name": "Python 3.10.2 64-bit",
   "language": "python",
   "name": "python3"
  },
  "language_info": {
   "codemirror_mode": {
    "name": "ipython",
    "version": 3
   },
   "file_extension": ".py",
   "mimetype": "text/x-python",
   "name": "python",
   "nbconvert_exporter": "python",
   "pygments_lexer": "ipython3",
   "version": "3.10.2"
  },
  "orig_nbformat": 4
 },
 "nbformat": 4,
 "nbformat_minor": 2
}
