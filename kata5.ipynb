{
 "cells": [
  {
   "cell_type": "markdown",
   "metadata": {},
   "source": [
    "# Ejercicio 1"
   ]
  },
  {
   "cell_type": "code",
   "execution_count": null,
   "metadata": {},
   "outputs": [],
   "source": [
    "disTierra = 149597870\n",
    "disMarte = 778547200"
   ]
  },
  {
   "cell_type": "code",
   "execution_count": null,
   "metadata": {},
   "outputs": [],
   "source": [
    "distancia = disMarte - disTierra\n",
    "print(distancia)\n",
    "\n",
    "disTierram = disTierra * 0.621\n",
    "disMartem = disMarte * 0.621\n",
    "\n",
    "print(\"marte en millas -> \" + str(disMartem))\n",
    "print(\"tierra en millas -> \" + str(disTierram))"
   ]
  },
  {
   "cell_type": "code",
   "execution_count": null,
   "metadata": {},
   "outputs": [],
   "source": [
    "disTierra = input(\"cual es la distancia de la tierra\")\n",
    "disTierra = int(disTierra)\n",
    "disMarte = input(\"cual es la distancia de marte\")\n",
    "disMarte = int(disMarte)\n",
    "\n",
    "print(disMarte)\n",
    "print(disTierra)"
   ]
  },
  {
   "cell_type": "code",
   "execution_count": 8,
   "metadata": {},
   "outputs": [
    {
     "name": "stdout",
     "output_type": "stream",
     "text": [
      "628949330\n",
      "390577533.93\n"
     ]
    }
   ],
   "source": [
    "disTierra = 149597870\n",
    "disMarte = 778547200\n",
    "\n",
    "distanciaAbsolutakm = abs(disMarte - disTierra)\n",
    "distanciaAbsolutami = abs(distanciaAbsolutakm * 0.621)\n",
    "\n",
    "print(distanciaAbsolutakm)\n",
    "print(distanciaAbsolutami)\n"
   ]
  }
 ],
 "metadata": {
  "interpreter": {
   "hash": "facfb1178ef491f45575003684c733da0b46caeb4ca5a1870461e517f559c901"
  },
  "kernelspec": {
   "display_name": "Python 3.10.2 64-bit",
   "language": "python",
   "name": "python3"
  },
  "language_info": {
   "codemirror_mode": {
    "name": "ipython",
    "version": 3
   },
   "file_extension": ".py",
   "mimetype": "text/x-python",
   "name": "python",
   "nbconvert_exporter": "python",
   "pygments_lexer": "ipython3",
   "version": "3.10.2"
  },
  "orig_nbformat": 4
 },
 "nbformat": 4,
 "nbformat_minor": 2
}
