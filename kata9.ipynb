{
 "cells": [
  {
   "cell_type": "markdown",
   "metadata": {},
   "source": [
    "# Ejercicio 1"
   ]
  },
  {
   "cell_type": "code",
   "execution_count": 6,
   "metadata": {},
   "outputs": [
    {
     "name": "stdout",
     "output_type": "stream",
     "text": [
      "reporte tanques:\n",
      "    promedio 20.0\n"
     ]
    }
   ],
   "source": [
    "def generar_reporte (tanque_1, tanque_2, tanque_3):\n",
    "    promedio = (tanque_1 + tanque_2 + tanque_3) / 3\n",
    "\n",
    "    return f\"\"\"reporte tanques:\n",
    "    promedio {promedio}\"\"\"\n",
    "\n",
    "print(generar_reporte(10,20,30))"
   ]
  },
  {
   "cell_type": "code",
   "execution_count": 7,
   "metadata": {},
   "outputs": [
    {
     "data": {
      "text/plain": [
       "53.333333333333336"
      ]
     },
     "execution_count": 7,
     "metadata": {},
     "output_type": "execute_result"
    }
   ],
   "source": [
    "def promedio(datos):\n",
    "    total = sum(datos)\n",
    "    total_datos = len(datos)\n",
    "    return total / total_datos\n",
    "\n",
    "promedio([60, 75, 25]) "
   ]
  },
  {
   "cell_type": "code",
   "execution_count": 12,
   "metadata": {},
   "outputs": [
    {
     "name": "stdout",
     "output_type": "stream",
     "text": [
      "reporte tanques:\n",
      "    promedio 53.333333333333336\n"
     ]
    }
   ],
   "source": [
    "def generar_reporte (tanque_1, tanque_2, tanque_3):\n",
    "\n",
    "    return f\"\"\"reporte tanques:\n",
    "    promedio {promedio([tanque_1, tanque_2, tanque_3])}\"\"\"\n",
    "\n",
    "print(generar_reporte(60,75,25))"
   ]
  },
  {
   "cell_type": "markdown",
   "metadata": {},
   "source": [
    "# Ejercicio 2"
   ]
  },
  {
   "cell_type": "code",
   "execution_count": 14,
   "metadata": {},
   "outputs": [
    {
     "name": "stdout",
     "output_type": "stream",
     "text": [
      "\n",
      "    Mision a Marte\n",
      "    Tiempo total viajado: 97 minutos\n",
      "    Combustible disponible: 150000 litros\n",
      "    \n"
     ]
    }
   ],
   "source": [
    "def mission_report(prelanzamiento_hora, tiempo_vuelo, destino,tanque_externo , tanque_principal):\n",
    "    return f\"\"\"\n",
    "    Mision a {destino}\n",
    "    Tiempo total viajado: {prelanzamiento_hora + tiempo_vuelo} minutos\n",
    "    Combustible disponible: {tanque_externo + tanque_principal} litros\n",
    "    \"\"\"\n",
    "\n",
    "print(mission_report(22, 75, \"Marte\", 50000, 100000))"
   ]
  }
 ],
 "metadata": {
  "interpreter": {
   "hash": "facfb1178ef491f45575003684c733da0b46caeb4ca5a1870461e517f559c901"
  },
  "kernelspec": {
   "display_name": "Python 3.10.2 64-bit",
   "language": "python",
   "name": "python3"
  },
  "language_info": {
   "codemirror_mode": {
    "name": "ipython",
    "version": 3
   },
   "file_extension": ".py",
   "mimetype": "text/x-python",
   "name": "python",
   "nbconvert_exporter": "python",
   "pygments_lexer": "ipython3",
   "version": "3.10.2"
  },
  "orig_nbformat": 4
 },
 "nbformat": 4,
 "nbformat_minor": 2
}
